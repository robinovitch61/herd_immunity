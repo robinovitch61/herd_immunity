{
 "cells": [
  {
   "cell_type": "markdown",
   "metadata": {},
   "source": [
    "# Herd Immunity Modeling"
   ]
  },
  {
   "cell_type": "code",
   "execution_count": 1,
   "metadata": {},
   "outputs": [],
   "source": [
    "%matplotlib inline\n",
    "import numpy as np\n",
    "import matplotlib.pyplot as plt\n",
    "import itertools\n",
    "import time\n",
    "from IPython.display import clear_output"
   ]
  },
  {
   "cell_type": "markdown",
   "metadata": {},
   "source": [
    "## Rules:\n",
    "\n",
    "1. Number of agents is **GRID_WIDTH * GRID_HEIGHT = NUM_AGENTS**. Each point in the rectangular grid is occupied by an agent.\n",
    "\n",
    "2. Agents are randomly assigned an **IMMUNE** status, either 0 (susceptible) or 1 (immune), at the beginning. **NUM_IMMUNE_START = PERC_IMMUNE_START * NUM_AGENTS**\n",
    "\n",
    "3. Agents are initially randomly flagged as sick, with **NUM_SICK_START = PERC_SICK_START * NUM_AGENTS.** Immune agents cannot be initially flagged as sick.\n",
    "\n",
    "4. At each period, agents connect with some of the agents around them, with probability of connecting to agents within their **CONNECTION_DISTANCE** being determined by a function. This determines the candidate pool a given agent could connect with:\n",
    "\n",
    "   1. If **CONNECTION_DISTANCE = 1**, agents have a candidate pool of  <= 8, that is, the agents directly around them in a square with themself at the center\n",
    "\n",
    "   2. If **CONNECTION_DISTANCE = 2,** agents have a candidate pool of <= 16, that is, the agents directly around them in 2 concentric squares with themself at the center\n",
    "\n",
    "   3. etc. with **CONNECTION_DISTANCE <= MAX(GRID_WIDTH, GRID_HEIGHT) - 1**\n",
    "\n",
    "5. If a sick agent connects with a healthy agent who is not immune, probability of infection is **PROB_INFECTION.** If a sick agent connects with an immune agent, probability of infection is zero (could change later accounting for imperfect vaccination success rate).\n",
    "\n",
    "6. After **PERIODS_SURVIVED** periods, sick agents die and no longer pose a threat to healthy agents.\n",
    "\n",
    "7. If after **PERIODS_FOR_STABILITY**, number of sick agents has not increased, the population is said to be stable and simulation ends."
   ]
  },
  {
   "cell_type": "code",
   "execution_count": 2,
   "metadata": {},
   "outputs": [],
   "source": [
    "def num_to_idxs(num):\n",
    "    '''Takes agent number (from 0 to NUM_AGENTS-1) and returns 2d index (down, across)'''\n",
    "    return num//GRID_WIDTH, num%GRID_WIDTH"
   ]
  },
  {
   "cell_type": "code",
   "execution_count": 3,
   "metadata": {},
   "outputs": [],
   "source": [
    "def idxs_to_num(down, across):\n",
    "    '''Takes indices in down, across form and returns 1d agent number'''\n",
    "    return down * GRID_WIDTH + across"
   ]
  },
  {
   "cell_type": "code",
   "execution_count": 4,
   "metadata": {},
   "outputs": [],
   "source": [
    "def get_probabilities(choices : np.ndarray, exclude : np.ndarray) -> np.ndarray:\n",
    "    probs = np.ones(len(choices))\n",
    "    if exclude is not None:\n",
    "        probs[exclude.astype(bool)] = 0\n",
    "    probs[probs == 1] = 1 / sum(probs)\n",
    "    assert np.isclose(sum(probs), 1.0)\n",
    "    return probs"
   ]
  },
  {
   "cell_type": "code",
   "execution_count": 5,
   "metadata": {},
   "outputs": [],
   "source": [
    "def initialize_array(num_agents : int, num_ones : int, exclude : np.ndarray) -> np.ndarray:\n",
    "    # Set up initial 1d array\n",
    "    agents = np.zeros(num_agents)\n",
    "    \n",
    "    # Randomly select locations for ones, incorporating exclusions\n",
    "    probs = get_probabilities(agents, exclude=exclude)\n",
    "    selections = np.random.choice(range(num_agents), size=num_ones, replace=False, p=probs)\n",
    "    agents[selections] = 1\n",
    "    \n",
    "    assert np.sum(agents) == num_ones\n",
    "    return agents"
   ]
  },
  {
   "cell_type": "code",
   "execution_count": 6,
   "metadata": {},
   "outputs": [],
   "source": [
    "def reset():\n",
    "    # Setup immunity\n",
    "    immune_arr = initialize_array(\n",
    "        num_agents=NUM_AGENTS,\n",
    "        num_ones=NUM_IMMUNE_START,\n",
    "        exclude=None\n",
    "    )\n",
    "    \n",
    "    # Setup sickness\n",
    "    sick_arr = initialize_array(\n",
    "        num_agents=NUM_AGENTS,\n",
    "        num_ones=NUM_SICK_START,\n",
    "        exclude=immune_arr\n",
    "    )\n",
    "    \n",
    "    # Setup health\n",
    "    healthy_arr = np.ones(NUM_AGENTS)\n",
    "    healthy_arr = healthy_arr - sick_arr\n",
    "    \n",
    "    # Setup death\n",
    "    dead_arr = np.zeros(NUM_AGENTS)\n",
    "\n",
    "    return immune_arr, healthy_arr, sick_arr, dead_arr"
   ]
  },
  {
   "cell_type": "code",
   "execution_count": 7,
   "metadata": {},
   "outputs": [],
   "source": [
    "def get_neighbors(num_agent : int) -> np.ndarray:\n",
    "    '''Takes in agent number and returns of tuple of adjacent agent numbers according to CONNECTION_DISTANCE'''\n",
    "    down, across = num_to_idxs(num_agent)\n",
    "    \n",
    "    # Determine bounds according to CONNECTION_DISTANCE\n",
    "    low_horiz_bound = across - CONNECTION_DISTANCE\n",
    "    high_horiz_bound = across + CONNECTION_DISTANCE\n",
    "    low_vert_bound = down - CONNECTION_DISTANCE\n",
    "    high_vert_bound = down + CONNECTION_DISTANCE\n",
    "\n",
    "    # Vectorized for speed\n",
    "    neighbors = ALL_IDXS[\n",
    "        (low_vert_bound <= ALL_IDXS[:,0])\n",
    "        & (ALL_IDXS[:,0] <= high_vert_bound)\n",
    "        & (low_horiz_bound <= ALL_IDXS[:,1])\n",
    "        & (ALL_IDXS[:,1] <= high_horiz_bound)\n",
    "    ]\n",
    "    \n",
    "    # Transform neighboring indices back to agent numbers\n",
    "    neighbor_nums = idxs_to_num(neighbors[:,0], neighbors[:,1])\n",
    "    neighbor_nums = neighbor_nums[neighbor_nums != num_agent] # exclude input\n",
    "    \n",
    "    return neighbor_nums"
   ]
  },
  {
   "cell_type": "code",
   "execution_count": 8,
   "metadata": {},
   "outputs": [],
   "source": [
    "def get_interaction_matrix():\n",
    "    # Bidirectional because either agent can initialize an interaction and once interacting they affect one another\n",
    "    \n",
    "    # Setup interaction matrix\n",
    "    interaction_matrix = np.zeros((NUM_AGENTS, NUM_AGENTS))\n",
    "    \n",
    "    # Every agent feels a random level of sociability each function call\n",
    "    sociability_arr = get_sociability_arr()\n",
    "    \n",
    "    # Build graph\n",
    "    for sociability, agent in zip(sociability_arr, range(NUM_AGENTS)):\n",
    "        neighbors = get_neighbors(agent)\n",
    "        interaction_idxs = np.random.binomial(1, sociability, size=len(neighbors))\n",
    "        neighbors_interacted_with = neighbors[interaction_idxs.astype(bool)]\n",
    "        \n",
    "#         print(sociability, neighbors, interaction_idxs, neighbors_interacted_with)\n",
    "#         return\n",
    "        \n",
    "#         if agent == 0: print(sociability, agent, neighbors, neighbors_interacted_with)\n",
    "  \n",
    "        interaction_matrix[agent, neighbors_interacted_with] = 1\n",
    "        \n",
    "    return interaction_matrix"
   ]
  },
  {
   "cell_type": "code",
   "execution_count": 9,
   "metadata": {},
   "outputs": [],
   "source": [
    "def set_sick(agents):\n",
    "    sick_arr[agents] = 1\n",
    "    healthy_arr[agents] = 0"
   ]
  },
  {
   "cell_type": "code",
   "execution_count": 10,
   "metadata": {},
   "outputs": [],
   "source": [
    "def set_healthy(agents):\n",
    "    healthy_arr[agents] = 1\n",
    "    sick_arr[agents] = 0"
   ]
  },
  {
   "cell_type": "code",
   "execution_count": 11,
   "metadata": {},
   "outputs": [],
   "source": [
    "def set_dead(agents):\n",
    "    dead_arr[agents] = 1\n",
    "    sick_arr[agents] = 0"
   ]
  },
  {
   "cell_type": "code",
   "execution_count": 12,
   "metadata": {},
   "outputs": [],
   "source": [
    "def set_immune(agents):\n",
    "    immune_arr[agents] = 1\n",
    "    healthy_arr[agents] = 0"
   ]
  },
  {
   "cell_type": "code",
   "execution_count": 13,
   "metadata": {},
   "outputs": [],
   "source": [
    "def get_sick_agents():\n",
    "    return np.where(sick_arr == 1)[0]"
   ]
  },
  {
   "cell_type": "code",
   "execution_count": 14,
   "metadata": {},
   "outputs": [],
   "source": [
    "def get_exposed_agents(sick_agent, interaction_matrix):\n",
    "    return np.where(interaction_matrix[sick_agent,:] == 1)[0]"
   ]
  },
  {
   "cell_type": "code",
   "execution_count": 15,
   "metadata": {},
   "outputs": [],
   "source": [
    "def do_timestep():\n",
    "    \n",
    "    ## Everyone feels better or dies \"overnight\" (if timesteps are days)\n",
    "    \n",
    "    # See if anyone gets better\n",
    "    sick_agents = np.where(sick_arr == 1)[0]\n",
    "    got_better = np.random.binomial(1, PROB_RECOVERY, size=len(sick_agents)).astype(bool)\n",
    "    set_healthy(sick_agents[got_better])\n",
    "    if IMMUNE_AFTER_RECOVERY:\n",
    "        set_immune(sick_agents[got_better])\n",
    "    \n",
    "    # See if anyone dies\n",
    "    sick_agents = np.where(sick_arr == 1)[0]\n",
    "    died = np.random.binomial(1, PROB_DEATH, size=len(sick_agents)).astype(bool)\n",
    "    set_dead(sick_agents[died])\n",
    "    \n",
    "    ## Everyone interacts and possibly gets sick during the day\n",
    "    \n",
    "    # Obtain matrix of interactions for timestep\n",
    "    interaction_matrix = get_interaction_matrix()\n",
    "    \n",
    "    plot_interactions(interaction_matrix)\n",
    "    \n",
    "    # See who gets infected by sick agents\n",
    "    sick_agents = get_sick_agents()\n",
    "    became_sick = []\n",
    "    for sick_agent in sick_agents:\n",
    "        # Healthy, alive, and non-immune agents that interacted with sick agents are at_risk if they're not immune or dead\n",
    "        exposed_agents = get_exposed_agents(sick_agent, interaction_matrix)\n",
    "        healthy = healthy_arr[exposed_agents].astype(bool)\n",
    "        immune = immune_arr[exposed_agents].astype(bool)\n",
    "        dead = dead_arr[exposed_agents].astype(bool)\n",
    "        at_risk_agents = exposed_agents[(healthy) & (~immune) & (~dead)]\n",
    "\n",
    "        # at_risk agents become sick with PROB_INFECTION\n",
    "        got_sick = np.random.binomial(1, PROB_INFECTION, size=len(at_risk_agents)).astype(bool)\n",
    "        became_sick += list(at_risk_agents[got_sick])\n",
    "    \n",
    "    set_sick(became_sick)"
   ]
  },
  {
   "cell_type": "code",
   "execution_count": 16,
   "metadata": {},
   "outputs": [],
   "source": [
    "def plot_interactions(interaction_matrix):\n",
    "    if clear: clear_output(wait=True)\n",
    "    from matplotlib import colors\n",
    "\n",
    "    # immune = 1, blue\n",
    "    # healthy = 2, green\n",
    "    # sick = 3, red\n",
    "    # dead = 4, black\n",
    "    \n",
    "    plot_matrix = np.zeros((GRID_HEIGHT, GRID_WIDTH))\n",
    "    dead_matrix = dead_arr.reshape(GRID_HEIGHT, GRID_WIDTH)\n",
    "    plot_matrix[dead_matrix == 1] = 4\n",
    "    sick_matrix = sick_arr.reshape(GRID_HEIGHT, GRID_WIDTH)\n",
    "    plot_matrix[sick_matrix == 1] = 3\n",
    "    healthy_matrix = healthy_arr.reshape(GRID_HEIGHT, GRID_WIDTH)\n",
    "    plot_matrix[healthy_matrix == 1] = 2\n",
    "    immune_matrix = immune_arr.reshape(GRID_HEIGHT, GRID_WIDTH)\n",
    "    plot_matrix[immune_matrix == 1] = 1\n",
    "    \n",
    "    bounds = [0, 0.5, 1, 1.5, 2, 2.5, 3, 3.5, 4]\n",
    "    cmap = colors.ListedColormap(['white', COLOR_IMMUNE, COLOR_HEALTHY, COLOR_SICK, COLOR_DEAD])\n",
    "    norm = colors.BoundaryNorm(bounds, cmap.N)\n",
    "\n",
    "    fig, ax = plt.subplots(figsize=(GRID_WIDTH//2+1, GRID_HEIGHT//2+1))\n",
    "\n",
    "    ax.imshow(plot_matrix, cmap=cmap, norm=norm)\n",
    "\n",
    "    sick_agents = get_sick_agents()\n",
    "    \n",
    "    for sick_agent in sick_agents:\n",
    "        exposed_agents = get_exposed_agents(sick_agent, interaction_matrix)\n",
    "        healthy = healthy_arr[exposed_agents].astype(bool)\n",
    "        immune = immune_arr[exposed_agents].astype(bool)\n",
    "        dead = dead_arr[exposed_agents].astype(bool)\n",
    "        at_risk_agents = exposed_agents[(healthy) & (~immune) & (~dead)]\n",
    "        \n",
    "        sick_down, sick_across = num_to_idxs(sick_agent)\n",
    "        for at_risk_agent in at_risk_agents:\n",
    "            at_risk_down, at_risk_across = num_to_idxs(at_risk_agent)\n",
    "            ax.plot([at_risk_across, sick_across], [at_risk_down, sick_down], color='pink', lw=3, marker='o', markerfacecolor='black', markeredgecolor='black')\n",
    "    \n",
    "    # draw gridlines\n",
    "    ax.grid(which='major', axis='both', linestyle='-', color='k', linewidth=2)\n",
    "    ax.set_xlim(left=-0.5, right=GRID_WIDTH-0.5)\n",
    "    ax.set_ylim(top=-0.5, bottom=GRID_WIDTH-0.5)\n",
    "    ax.set_xticks(np.arange(-0.5, GRID_WIDTH, 1));\n",
    "    ax.set_yticks(np.arange(-0.5, GRID_HEIGHT, 1));\n",
    "    ax.set_xticklabels([])\n",
    "    ax.set_yticklabels([])\n",
    "    plt.show()"
   ]
  },
  {
   "cell_type": "code",
   "execution_count": 17,
   "metadata": {},
   "outputs": [],
   "source": [
    "def plot_grid():\n",
    "    if clear: clear_output(wait=True)\n",
    "    from matplotlib import colors\n",
    "\n",
    "    # immune = 1, blue\n",
    "    # healthy = 2, green\n",
    "    # sick = 3, red\n",
    "    # dead = 4, black\n",
    "    \n",
    "    plot_matrix = np.zeros((GRID_HEIGHT, GRID_WIDTH))\n",
    "    dead_matrix = dead_arr.reshape(GRID_HEIGHT, GRID_WIDTH)\n",
    "    plot_matrix[dead_matrix == 1] = 4\n",
    "    sick_matrix = sick_arr.reshape(GRID_HEIGHT, GRID_WIDTH)\n",
    "    plot_matrix[sick_matrix == 1] = 3\n",
    "    healthy_matrix = healthy_arr.reshape(GRID_HEIGHT, GRID_WIDTH)\n",
    "    plot_matrix[healthy_matrix == 1] = 2\n",
    "    immune_matrix = immune_arr.reshape(GRID_HEIGHT, GRID_WIDTH)\n",
    "    plot_matrix[immune_matrix == 1] = 1\n",
    "    \n",
    "    bounds = [0, 0.5, 1, 1.5, 2, 2.5, 3, 3.5, 4]\n",
    "    cmap = colors.ListedColormap(['white', COLOR_IMMUNE, COLOR_HEALTHY, COLOR_SICK, COLOR_DEAD])\n",
    "    norm = colors.BoundaryNorm(bounds, cmap.N)\n",
    "\n",
    "    fig, ax = plt.subplots(figsize=(GRID_WIDTH//2+1, GRID_HEIGHT//2+1))\n",
    "\n",
    "    ax.imshow(plot_matrix, cmap=cmap, norm=norm)\n",
    "\n",
    "    # draw gridlines\n",
    "    ax.grid(which='major', axis='both', linestyle='-', color='k', linewidth=2)\n",
    "    ax.set_xlim(left=-0.5, right=GRID_WIDTH-0.5)\n",
    "    ax.set_ylim(top=-0.5, bottom=GRID_WIDTH-0.5)\n",
    "    ax.set_xticks(np.arange(-0.5, GRID_WIDTH, 1));\n",
    "    ax.set_yticks(np.arange(-0.5, GRID_HEIGHT, 1));\n",
    "    ax.set_xticklabels([])\n",
    "    ax.set_yticklabels([])\n",
    "    plt.show()"
   ]
  },
  {
   "cell_type": "code",
   "execution_count": 27,
   "metadata": {},
   "outputs": [],
   "source": [
    "def get_sociability_arr():\n",
    "#     return np.random.random(NUM_AGENTS)\n",
    "#     return np.ones(NUM_AGENTS)\n",
    "    return np.ones(NUM_AGENTS) * 0.1"
   ]
  },
  {
   "cell_type": "code",
   "execution_count": 30,
   "metadata": {},
   "outputs": [
    {
     "data": {
      "image/png": "[encoded data removed]",
      "text/plain": [
       "<Figure size 792x792 with 1 Axes>"
      ]
     },
     "metadata": {
      "needs_background": "light"
     },
     "output_type": "display_data"
    }
   ],
   "source": [
    "# Colors\n",
    "COLOR_IMMUNE = 'blue'\n",
    "COLOR_HEALTHY = 'green'\n",
    "COLOR_SICK = 'red'\n",
    "COLOR_DEAD = 'black'\n",
    "\n",
    "# Inputs\n",
    "GRID_WIDTH = 20\n",
    "GRID_HEIGHT = 20\n",
    "PROB_INFECTION = 1\n",
    "PERC_IMMUNE_START = 0.95 # HERD IMMUNITY THRESH\n",
    "PERC_SICK_START = 0.01\n",
    "CONNECTION_DISTANCE = 5\n",
    "PROB_DEATH = 0.1\n",
    "PROB_RECOVERY = 0.1\n",
    "IMMUNE_AFTER_RECOVERY = False\n",
    "\n",
    "# Derived constants\n",
    "NUM_AGENTS = GRID_WIDTH * GRID_HEIGHT\n",
    "assert PERC_IMMUNE_START + PERC_SICK_START <=1, 'Impossible!'\n",
    "MAX_REASONABLE_CONNECTION_DISTANCE = max(GRID_WIDTH, GRID_HEIGHT) - 1\n",
    "if CONNECTION_DISTANCE > MAX_REASONABLE_CONNECTION_DISTANCE: CONNECTION_DISTANCE = MAX_REASONABLE_CONNECTION_DISTANCE\n",
    "NUM_IMMUNE_START = int(np.round(PERC_IMMUNE_START * NUM_AGENTS, 0))\n",
    "NUM_SICK_START = int(np.round(PERC_SICK_START * NUM_AGENTS, 0))\n",
    "ALL_IDXS = np.array(list(itertools.product(range(GRID_HEIGHT), range(GRID_WIDTH))))\n",
    "\n",
    "immune_arr, healthy_arr, sick_arr, dead_arr = reset()\n",
    "\n",
    "wait = 0.5\n",
    "clear = True\n",
    "plot_grid()\n",
    "time.sleep(wait)\n",
    "now = time.time()\n",
    "while time.time() - now <= 30:\n",
    "    do_timestep()\n",
    "    time.sleep(wait)\n",
    "    plot_grid()\n",
    "    time.sleep(wait)"
   ]
  },
  {
   "cell_type": "code",
   "execution_count": null,
   "metadata": {},
   "outputs": [],
   "source": []
  },
  {
   "cell_type": "code",
   "execution_count": null,
   "metadata": {},
   "outputs": [],
   "source": []
  }
 ],
 "metadata": {
  "kernelspec": {
   "display_name": "py37",
   "language": "python",
   "name": "py37"
  },
  "language_info": {
   "codemirror_mode": {
    "name": "ipython",
    "version": 3
   },
   "file_extension": ".py",
   "mimetype": "text/x-python",
   "name": "python",
   "nbconvert_exporter": "python",
   "pygments_lexer": "ipython3",
   "version": "3.7.4"
  }
 },
 "nbformat": 4,
 "nbformat_minor": 4
}
